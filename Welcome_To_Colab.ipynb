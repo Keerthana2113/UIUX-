{
  "cells": [
    {
      "cell_type": "markdown",
      "metadata": {
        "id": "view-in-github",
        "colab_type": "text"
      },
      "source": [
        "<a href=\"https://colab.research.google.com/github/Keerthana2113/UIUX-/blob/main/Welcome_To_Colab.ipynb\" target=\"_parent\"><img src=\"https://colab.research.google.com/assets/colab-badge.svg\" alt=\"Open In Colab\"/></a>"
      ]
    },
    {
      "cell_type": "code",
      "source": [
        "!pip install sqlalchemy\n",
        "\n",
        "import pandas as pd\n",
        "from io import StringIO\n",
        "from sqlalchemy import create_engine\n",
        "\n",
        "# ------------------------\n",
        "# STEP 1: Extract\n",
        "# ------------------------\n",
        "\n",
        "def extract_data():\n",
        "    print(\"Extracting data...\")\n",
        "    csv_data = \"\"\"customer_id,customer_name,product_id,product_name,quantity,sales_amount\n",
        "1,Alice Smith,101,Laptop,2,1200.00\n",
        "2,Bob Johnson,102,Mouse,5,75.00\n",
        "3,Charlie Brown,101,Laptop,1,600.00\n",
        "4,David Lee,103,Keyboard,3,90.00\n",
        "5,Eve Green,102,Mouse,2,30.00\"\"\"\n",
        "\n",
        "    df = pd.read_csv(StringIO(csv_data))\n",
        "    return df\n",
        "\n",
        "# ------------------------\n",
        "# STEP 2: Transform\n",
        "# ------------------------\n",
        "\n",
        "def transform_data(df):\n",
        "    print(\"Transforming data...\")\n",
        "    df.columns = df.columns.str.strip().str.lower().str.replace(' ', '_')\n",
        "    df.dropna(inplace=True)\n",
        "    return df\n",
        "\n",
        "# ------------------------\n",
        "# STEP 3: Load\n",
        "# ------------------------\n",
        "\n",
        "def load_data(df, db_path, table_name):\n",
        "    print(\"Loading data to database...\")\n",
        "    engine = create_engine(f\"sqlite:///{db_path}\")\n",
        "    df.to_sql(table_name, con=engine, if_exists='replace', index=False)\n",
        "    print(\"Data loaded successfully.\")\n",
        "\n",
        "# ------------------------\n",
        "# Main ETL Runner\n",
        "# ------------------------\n",
        "\n",
        "def run_etl():\n",
        "    db_path = \"etl_output.db\"\n",
        "    table_name = \"customer_sales\"\n",
        "\n",
        "    df = extract_data()\n",
        "    df_transformed = transform_data(df)\n",
        "    load_data(df_transformed, db_path, table_name)\n",
        "\n",
        "    # Optional: Save to CSV\n",
        "    df_transformed.to_csv(\"transformed_customer_sales.csv\", index=False)\n",
        "    print(\"CSV file saved as transformed_customer_sales.csv\")\n",
        "\n",
        "    # Optional: Download CSV if in Colab\n",
        "    try:\n",
        "        from google.colab import files\n",
        "        files.download(\"transformed_customer_sales.csv\")\n",
        "    except:\n",
        "        pass  # Ignore if not in Colab\n",
        "\n",
        "if __name__ == \"__main__\":\n",
        "    run_etl()\n"
      ],
      "metadata": {
        "colab": {
          "base_uri": "https://localhost:8080/",
          "height": 176
        },
        "id": "wY4kSU2lIsqQ",
        "outputId": "6e980e6a-2c18-4dc1-82c9-317d0387c058"
      },
      "execution_count": 4,
      "outputs": [
        {
          "output_type": "stream",
          "name": "stdout",
          "text": [
            "Requirement already satisfied: sqlalchemy in /usr/local/lib/python3.11/dist-packages (2.0.41)\n",
            "Requirement already satisfied: greenlet>=1 in /usr/local/lib/python3.11/dist-packages (from sqlalchemy) (3.2.2)\n",
            "Requirement already satisfied: typing-extensions>=4.6.0 in /usr/local/lib/python3.11/dist-packages (from sqlalchemy) (4.14.0)\n",
            "Extracting data...\n",
            "Transforming data...\n",
            "Loading data to database...\n",
            "Data loaded successfully.\n",
            "CSV file saved as transformed_customer_sales.csv\n"
          ]
        },
        {
          "output_type": "display_data",
          "data": {
            "text/plain": [
              "<IPython.core.display.Javascript object>"
            ],
            "application/javascript": [
              "\n",
              "    async function download(id, filename, size) {\n",
              "      if (!google.colab.kernel.accessAllowed) {\n",
              "        return;\n",
              "      }\n",
              "      const div = document.createElement('div');\n",
              "      const label = document.createElement('label');\n",
              "      label.textContent = `Downloading \"${filename}\": `;\n",
              "      div.appendChild(label);\n",
              "      const progress = document.createElement('progress');\n",
              "      progress.max = size;\n",
              "      div.appendChild(progress);\n",
              "      document.body.appendChild(div);\n",
              "\n",
              "      const buffers = [];\n",
              "      let downloaded = 0;\n",
              "\n",
              "      const channel = await google.colab.kernel.comms.open(id);\n",
              "      // Send a message to notify the kernel that we're ready.\n",
              "      channel.send({})\n",
              "\n",
              "      for await (const message of channel.messages) {\n",
              "        // Send a message to notify the kernel that we're ready.\n",
              "        channel.send({})\n",
              "        if (message.buffers) {\n",
              "          for (const buffer of message.buffers) {\n",
              "            buffers.push(buffer);\n",
              "            downloaded += buffer.byteLength;\n",
              "            progress.value = downloaded;\n",
              "          }\n",
              "        }\n",
              "      }\n",
              "      const blob = new Blob(buffers, {type: 'application/binary'});\n",
              "      const a = document.createElement('a');\n",
              "      a.href = window.URL.createObjectURL(blob);\n",
              "      a.download = filename;\n",
              "      div.appendChild(a);\n",
              "      a.click();\n",
              "      div.remove();\n",
              "    }\n",
              "  "
            ]
          },
          "metadata": {}
        },
        {
          "output_type": "display_data",
          "data": {
            "text/plain": [
              "<IPython.core.display.Javascript object>"
            ],
            "application/javascript": [
              "download(\"download_d04fc33d-c6a7-4cc4-8975-041d42095294\", \"transformed_customer_sales.csv\", 233)"
            ]
          },
          "metadata": {}
        }
      ]
    }
  ],
  "metadata": {
    "colab": {
      "name": "Welcome To Colab",
      "toc_visible": true,
      "provenance": [],
      "include_colab_link": true
    },
    "kernelspec": {
      "display_name": "Python 3",
      "name": "python3"
    }
  },
  "nbformat": 4,
  "nbformat_minor": 0
}